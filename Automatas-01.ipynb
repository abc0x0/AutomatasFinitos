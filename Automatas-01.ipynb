{
 "cells": [
  {
   "cell_type": "markdown",
   "metadata": {},
   "source": [
    "# Autómatas Finitos\n",
    "## Autómatas Finitos Deteminístas (AFD)\n",
    "### Definición\n",
    "Un AFD es un mecanismo teórico que permite clasificar palabras en dos lenguajes, el lenguaje de palabras aceptadas y el lenguaje de las palabras no aceptadas. \n",
    "\n",
    "Se parte entonces de la existencia de un conjunto de símbolos o señales que en secuencia finita, forman palabras, algunas de las cuales pueden ser aceptadas o no por cierto sistema. Un AFD es el que determina cuáles de esas palabras son aceptadas y cuáles no.\n",
    "\n",
    "Formalmente un AFD está definido por una quíntupla de elementos:\n",
    "$$AFD = \\langle Q,\\Sigma,q_0,A,f_t\\rangle$$\n",
    "\n",
    "donde:\n",
    "\n",
    "- $Q=\\{q_0|Q'\\}$ es un conjunto no vacío de símbolos que representan los estados en los que se puede encontrar el autómata.\n",
    "\n",
    "- $\\Sigma=\\{\\sigma_0\\vert\\Sigma'\\}\\mid\\emptyset$ es un conjunto (posiblemente vac\\'io) que representa el conjunto de señanes con que el autómata es capaz de reaccionar.\n",
    "\n",
    "- $q_0\\in Q$ es un estado del autómata que sirve como estado inicial.\n",
    "\n",
    "- $A\\subseteq Q$ es un subconjunto de estados, que sirven como estados aceptores.\n",
    "\n",
    "- $f_t:Q\\times\\Sigma\\to Q$ es una función completa y sobreyectiva llamada función de transición.\n",
    "\n",
    "Un AFD es finito porque $|E|<<\\infty$ y $|\\Sigma|<<\\infty$. Por otro lado, el AFD es determinísta porque la función de transición es total y sobreyectiva, lo que garantiza que ante cualquier combinación de argumentos de entrada, siempre exista uno y sólo un elemento del codominio relacionado con la entrada."
   ]
  },
  {
   "cell_type": "markdown",
   "metadata": {},
   "source": [
    "### Representación orientada a objetos\n",
    "Un AFD se modela por una clase llamada `afd%`, que tiene 5 campos (atributos en la teoría general de objetos), y corresponden exactamente a la quíntupla de definición del AFD; los métodos se irán definiendo en el desarrollo de este tema."
   ]
  },
  {
   "cell_type": "code",
   "execution_count": 13,
   "metadata": {},
   "outputs": [],
   "source": [
    "(require racket)\n",
    "(require racket/list)\n",
    "(define afd%\n",
    "  (class object%\n",
    "    (init-field ldef)\n",
    "    (field [EDOS (list-ref ldef 0)]\n",
    "           [ALFA (list-ref ldef 1)]\n",
    "           [EINI (list-ref ldef 2)]\n",
    "           [ACEP (list-ref ldef 3)]\n",
    "           [FTRA (list-ref ldef 4)]\n",
    "           [NAME \"afd-non\"]\n",
    "           [GTRA 'NoDef])\n",
    "    (super-new)\n",
    "    (define/public (edos) EDOS)\n",
    "    (define/public (alfa) ALFA)\n",
    "    (define/public (eini) EINI)\n",
    "    (define/public (acep) ACEP)\n",
    "    (define/public (ftra) FTRA)\n",
    "))"
   ]
  },
  {
   "attachments": {
    "afd-A.png": {
     <img src="afd-A.png">
     }
   },
   "cell_type": "markdown",
   "metadata": {},
   "source": [
    "### Grafo de transiciones\n",
    "- Los estados estan dibujados como círculos.\n",
    "- El alfabeto proporciona los símbolos para etiquetar las flechas.\n",
    "- El estado inicial es señalado por una flecha que no tiene estado inicial.\n",
    "- Un estado aceptor se distingue de los demás estados por estar dibujado con un doble círculo.\n",
    "- Las transiciones como flechas que indican el estado inicial y la punta de flecha indica el estado que se alcanza en la transición. Cada flecha debe estar etiquetada con un símbolo del alfabeto.\n",
    "\n",
    "Ejemplo: Supongamos el siguiente autómata.\n",
    "\n",
    "\n",
    "![afd-A.png](attachment:afd-A.png)\n",
    "\n",
    "### Tabla de transiciones\n",
    "\n",
    "La información del AFD se puede plasmar en una tabla de transiciones, poniendo cada símbolo del alfabeto encabezando una columna, y cada estado encabezando cada renglón. Se debe distinguir el estado inicial con una marca `>`; y el estado inicial con otra marca diferente, como `*`, el siguiente ejemplo ilustra el mismo autómata que en el grafo de transiciones:\n",
    "\n",
    "|     || 0  | 1  | \n",
    "|----------------|\n",
    "| >q1 || q1 | q2 |\n",
    "|  q2 || q5 | q3 |\n",
    "|  q3 || q1 | q4 |\n",
    "| *q4 || q5 | q2 |\n",
    "| *q5 || q5 | q4 |\n"
   ]
  },
  {
   "cell_type": "code",
   "execution_count": 22,
   "metadata": {},
   "outputs": [
    {
     "data": {
      "text/html": [
       "<code>'((q1 0 q1) (q1 1 q2) (q2 0 q5) (q2 1 q3) (q3 0 q1) (q3 1 q4) (q4 0 q5) (q4 1 q2) (q5 0 q5) (q5 1 q4))</code>"
      ],
      "text/plain": [
       "'((q1 0 q1) (q1 1 q2) (q2 0 q5) (q2 1 q3) (q3 0 q1) (q3 1 q4) (q4 0 q5) (q4 1 q2) (q5 0 q5) (q5 1 q4))"
      ]
     },
     "execution_count": 22,
     "metadata": {},
     "output_type": "execute_result"
    }
   ],
   "source": [
    "(define ldefA '((q1 q2 q3 q4 q5) (0 1) q1 (q4 q5)\n",
    "                                 ((q1 0 q1) (q1 1 q2) (q2 0 q5) (q2 1 q3)\n",
    "                                  (q3 0 q1) (q3 1 q4) (q4 0 q5) (q4 1 q2)\n",
    "                                  (q5 0 q5) (q5 1 q4))))\n",
    "(define A (new afd% [ldef ldefA]))\n",
    "\n",
    "(send A ftra)"
   ]
  },
  {
   "cell_type": "markdown",
   "metadata": {},
   "source": [
    "### La función de transición de estados\n",
    "\n",
    "La dinámica del AFD empieza con la posibilidad de cambiar entre estados a causa de una señal que percibe el autómata, o de manera equivalente, un símbolo leído por el autómata. La función de transición $\\delta$, definida como una lista de transiciones solamente contiene el protocolo a seguir en cualquier caso, pero falta el mecanismo que efectivamente hace que cambie de estado. De modo que definimos $\\delta$ como sigue:\n",
    "$$\n",
    "\\delta(q,\\sigma)= \\mathrm{last}(\\{t\\in f_t\\;\\mid\\;\\langle q,\\sigma\\rangle = \\langle t_1, t_2\\rangle \\})\n",
    "$$"
   ]
  },
  {
   "cell_type": "code",
   "execution_count": 20,
   "metadata": {},
   "outputs": [],
   "source": [
    "(define afd%\n",
    "  (class object%\n",
    "    (init-field ldef)\n",
    "    (field [EDOS (list-ref ldef 0)]\n",
    "           [ALFA (list-ref ldef 1)]\n",
    "           [EINI (list-ref ldef 2)]\n",
    "           [ACEP (list-ref ldef 3)]\n",
    "           [FTRA (list-ref ldef 4)]\n",
    "           [NAME \"afd-non\"]\n",
    "           [GTRA 'NoDef])\n",
    "    (super-new)\n",
    "    (define/public (edos) EDOS)\n",
    "    (define/public (alfa) ALFA)\n",
    "    (define/public (eini) EINI)\n",
    "    (define/public (acep) ACEP)\n",
    "    (define/public (ftra) FTRA)\n",
    "; -------------------------------------------------------------------------\n",
    "    (define/public (f e s) \n",
    "        (caddar (filter (lambda (t) (equal? (list e s) (take t 2))) FTRA)))\n",
    "; -------------------------------------------------------------------------\n",
    "))"
   ]
  },
  {
   "cell_type": "code",
   "execution_count": 21,
   "metadata": {},
   "outputs": [
    {
     "data": {
      "text/html": [
       "<code>'q5</code>"
      ],
      "text/plain": [
       "'q5"
      ]
     },
     "execution_count": 21,
     "metadata": {},
     "output_type": "execute_result"
    }
   ],
   "source": [
    "(define ldefA '((q1 q2 q3 q4 q5) (0 1) q1 (q4 q5)\n",
    "                                 ((q1 0 q1) (q1 1 q2) (q2 0 q5) (q2 1 q3)\n",
    "                                  (q3 0 q1) (q3 1 q4) (q4 0 q5) (q4 1 q2)\n",
    "                                  (q5 0 q5) (q5 1 q4))))\n",
    "\n",
    "(define A (new afd% [ldef ldefA]))\n",
    "\n",
    "(send A f 'q4 0)"
   ]
  },
  {
   "cell_type": "markdown",
   "metadata": {},
   "source": [
    "### La función de transición extendida\n",
    "\n",
    "El siguiente paso en la dinámica del autómata, es brindarle la capacidad de analizar palabras de símbolos. Llamaremos __función de transición extendida__ a la función \n",
    "$$\n",
    "\\delta*:Q\\times\\Sigma*\n",
    "$$\n",
    "que a partir de un estado $q\\in Q$, analiza cada símbolo de una palabra $\\omega\\in\\Sigma*$: el autómata cambia de estado en estado (si es necesario) y devuelve el estado que fué alcanzado después de haber analizado el último símbolo de $\\omega$, ese último estado lo llamaremos __estado final__.  \n",
    "La función $\\delta*$ es definida recursivamente como:\n",
    "$$\n",
    "\\delta*(q,\\omega)=\\left\\{\\begin{array}{ll}\n",
    "q & \\mathrm{si}\\;\\omega=\\epsilon;\\\\\n",
    "\\\\\n",
    "\\delta*(\\delta(q,\\omega_0),\\omega') & \\mathrm{si}\\;\\omega=\\langle\\omega_0\\mid\\omega'\\rangle.\n",
    "\\end{array}\\right.\n",
    "$$\n",
    "\n",
    "__*nota:*__ La notación $\\omega=\\langle \\omega_0\\mid \\omega'\\rangle$ indica que $\\omega$ es una secuencia no vacía, que tiene a $\\omega_0$ como primer elemento, y a $\\omega'$ como la secuencia que contiene al resto de los elementos de $\\omega$."
   ]
  },
  {
   "cell_type": "code",
   "execution_count": 24,
   "metadata": {},
   "outputs": [
    {
     "data": {
      "text/html": [
       "<code>'q5</code>"
      ],
      "text/plain": [
       "'q5"
      ]
     },
     "execution_count": 24,
     "metadata": {},
     "output_type": "execute_result"
    }
   ],
   "source": [
    "(define afd%\n",
    "  (class object%\n",
    "    (init-field ldef)\n",
    "    (field [EDOS (list-ref ldef 0)]\n",
    "           [ALFA (list-ref ldef 1)]\n",
    "           [EINI (list-ref ldef 2)]\n",
    "           [ACEP (list-ref ldef 3)]\n",
    "           [FTRA (list-ref ldef 4)]\n",
    "           [NAME \"afd-non\"]\n",
    "           [GTRA 'NoDef])\n",
    "    (super-new)\n",
    "    (define/public (edos) EDOS)\n",
    "    (define/public (alfa) ALFA)\n",
    "    (define/public (eini) EINI)\n",
    "    (define/public (acep) ACEP)\n",
    "    (define/public (ftra) FTRA)\n",
    "    (define/public (f e s) \n",
    "        (caddar (filter (lambda (t) (equal? (list e s) (take t 2))) FTRA)))\n",
    "; -------------------------------------------------------------------------------\n",
    "    (define/public (f* e w)\n",
    "      (if (equal? w '()) \n",
    "          e\n",
    "          (f* (f e (car w)) (cdr w))))\n",
    "; -------------------------------------------------------------------------------\n",
    "))\n",
    "\n",
    "(define ldefA '((q1 q2 q3 q4 q5) (0 1) q1 (q4 q5)\n",
    "                                 ((q1 0 q1) (q1 1 q2) (q2 0 q5) (q2 1 q3)\n",
    "                                  (q3 0 q1) (q3 1 q4) (q4 0 q5) (q4 1 q2)\n",
    "                                  (q5 0 q5) (q5 1 q4))))\n",
    "\n",
    "(define A (new afd% [ldef ldefA]))\n",
    "\n",
    "(send A f* 'q2 '(0 1 1 1 1 0))"
   ]
  },
  {
   "cell_type": "code",
   "execution_count": null,
   "metadata": {},
   "outputs": [],
   "source": []
  }
 ],
 "metadata": {
  "kernelspec": {
   "display_name": "Racket",
   "language": "racket",
   "name": "racket"
  },
  "language_info": {
   "codemirror_mode": "scheme",
   "file_extension": ".rkt",
   "mimetype": "text/x-racket",
   "name": "Racket",
   "pygments_lexer": "racket",
   "version": "6.12"
  }
 },
 "nbformat": 4,
 "nbformat_minor": 2
}
